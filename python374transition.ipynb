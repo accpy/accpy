{
 "cells": [
  {
   "cell_type": "code",
   "execution_count": 39,
   "metadata": {},
   "outputs": [
    {
     "name": "stdout",
     "output_type": "stream",
     "text": [
      "norm(diff)           4.242640687119285\n",
      "sqrt(sum(dif^2))     4.242640687119285\n"
     ]
    }
   ],
   "source": [
    "# from matplotlib.mlab import dist\n",
    "import numpy as np\n",
    "\n",
    "\n",
    "a, b = np.array([3, 3]), np.array([0, 0])\n",
    "\n",
    "dist = {}\n",
    "dist['norm(diff)'] = lambda a,b: np.linalg.norm(a - b)\n",
    "dist['sqrt(sum(dif^2))'] = lambda a,b: np.sqrt(np.sum((a - b)**2))\n",
    "\n",
    "for key in dist:\n",
    "    print('{:20} {}'.format(key, dist[key](a, b)))"
   ]
  },
  {
   "cell_type": "code",
   "execution_count": 60,
   "metadata": {},
   "outputs": [],
   "source": [
    "# from matplotlib.mlab import find\n",
    "import numpy as np\n",
    "\n",
    "Q = np.linspace(-.3,1.7, 21) - 1\n",
    "Q = np.add(1, Q)\n",
    "\n",
    "def find(condition):\n",
    "    res, = np.nonzero(np.ravel(condition))\n",
    "    return res\n",
    "\n",
    "zeroQ = np.where(np.logical_or(np.logical_or(Q == 0.0, Q == 1.0), Q == 0.5))[0]\n",
    "zeroQ = find(np.logical_or(np.logical_or(Q == 0.0, Q == 1.0), Q == 0.5))"
   ]
  }
 ],
 "metadata": {
  "kernelspec": {
   "display_name": "Python 3.7.4",
   "language": "python",
   "name": "python_3.7.4"
  },
  "language_info": {
   "codemirror_mode": {
    "name": "ipython",
    "version": 3
   },
   "file_extension": ".py",
   "mimetype": "text/x-python",
   "name": "python",
   "nbconvert_exporter": "python",
   "pygments_lexer": "ipython3",
   "version": "3.7.4"
  }
 },
 "nbformat": 4,
 "nbformat_minor": 4
}
